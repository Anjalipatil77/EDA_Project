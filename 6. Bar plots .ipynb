{
 "cells": [
  {
   "cell_type": "code",
   "execution_count": 1,
   "id": "00d3b585",
   "metadata": {},
   "outputs": [
    {
     "data": {
      "text/plain": [
       "0.9999984196840445"
      ]
     },
     "execution_count": 1,
     "metadata": {},
     "output_type": "execute_result"
    }
   ],
   "source": [
    "%store -r decision_train_score\n",
    "%store -r decision_test_score\n",
    "decision_train_score"
   ]
  },
  {
   "cell_type": "code",
   "execution_count": 2,
   "id": "70482635",
   "metadata": {},
   "outputs": [
    {
     "data": {
      "text/plain": [
       "0.9999964408872123"
      ]
     },
     "execution_count": 2,
     "metadata": {},
     "output_type": "execute_result"
    }
   ],
   "source": [
    "decision_test_score"
   ]
  },
  {
   "cell_type": "code",
   "execution_count": 3,
   "id": "7eb0c7e1",
   "metadata": {},
   "outputs": [],
   "source": [
    "%store -r linear_test_score\n",
    "%store -r linear_train_score"
   ]
  },
  {
   "cell_type": "code",
   "execution_count": 4,
   "id": "08ac66c2",
   "metadata": {},
   "outputs": [
    {
     "data": {
      "text/plain": [
       "0.005463483862958252"
      ]
     },
     "execution_count": 4,
     "metadata": {},
     "output_type": "execute_result"
    }
   ],
   "source": [
    "linear_test_score"
   ]
  },
  {
   "cell_type": "code",
   "execution_count": 5,
   "id": "ac63a687",
   "metadata": {},
   "outputs": [
    {
     "data": {
      "text/plain": [
       "0.0028111062817717247"
      ]
     },
     "execution_count": 5,
     "metadata": {},
     "output_type": "execute_result"
    }
   ],
   "source": [
    "linear_train_score"
   ]
  },
  {
   "cell_type": "code",
   "execution_count": 6,
   "id": "51ac2beb",
   "metadata": {},
   "outputs": [],
   "source": [
    "%store -r knn_test_score\n",
    "%store -r knn_train_score"
   ]
  },
  {
   "cell_type": "code",
   "execution_count": 7,
   "id": "8519c68a",
   "metadata": {},
   "outputs": [
    {
     "data": {
      "text/plain": [
       "-0.1145843731199423"
      ]
     },
     "execution_count": 7,
     "metadata": {},
     "output_type": "execute_result"
    }
   ],
   "source": [
    "knn_test_score"
   ]
  },
  {
   "cell_type": "code",
   "execution_count": 8,
   "id": "277e27e2",
   "metadata": {},
   "outputs": [
    {
     "data": {
      "text/plain": [
       "0.10992154333916171"
      ]
     },
     "execution_count": 8,
     "metadata": {},
     "output_type": "execute_result"
    }
   ],
   "source": [
    "knn_train_score"
   ]
  },
  {
   "cell_type": "code",
   "execution_count": 9,
   "id": "669b044e",
   "metadata": {},
   "outputs": [],
   "source": [
    "#storing the train scores of all the models in variable \"y1\"\n",
    "x1=[\"decision_train_score\",\"linear_train_score\",\"knn_train_score\"]\n",
    "y1 =[0.9999984196840445,0.0028111062817717247,0.10992154333916171]"
   ]
  },
  {
   "cell_type": "code",
   "execution_count": 10,
   "id": "96937bad",
   "metadata": {},
   "outputs": [],
   "source": [
    "#storing the test scores of all the models in variable \"y2\"\n",
    "x2 = [\"decision_test_score\",\"linear_test_score\",\"knn_test_score\"]\n",
    "y2 =[0.9999964408872123, 0.005463483862958252, -0.1145843731199423]"
   ]
  },
  {
   "cell_type": "code",
   "execution_count": 11,
   "id": "e61684f4",
   "metadata": {},
   "outputs": [],
   "source": [
    "import matplotlib.pyplot as plt"
   ]
  },
  {
   "cell_type": "markdown",
   "id": "0bb8a82e",
   "metadata": {},
   "source": [
    "# bar plots for train scores of all models"
   ]
  },
  {
   "cell_type": "code",
   "execution_count": 12,
   "id": "23179019",
   "metadata": {},
   "outputs": [
    {
     "data": {
      "image/png": "[encoded data removed]",
      "text/plain": [
       "<Figure size 600x400 with 1 Axes>"
      ]
     },
     "metadata": {
      "needs_background": "light"
     },
     "output_type": "display_data"
    }
   ],
   "source": [
    "plt.figure(dpi=100)\n",
    "plt.bar(x1,y1)\n",
    "plt.xlabel(\"models\")\n",
    "plt.ylabel(\"train scores\")\n",
    "plt.show()"
   ]
  },
  {
   "cell_type": "markdown",
   "id": "888823ca",
   "metadata": {},
   "source": [
    "from the above bar plot we can observe that the best model for the given dataset is Decision tree model\n",
    "with the train score of 0.9999984196840445"
   ]
  },
  {
   "cell_type": "markdown",
   "id": "18a4002c",
   "metadata": {},
   "source": [
    "# bar plots for test scores of all models"
   ]
  },
  {
   "cell_type": "code",
   "execution_count": 13,
   "id": "1992b315",
   "metadata": {},
   "outputs": [
    {
     "data": {
      "image/png": "[encoded data removed]",
      "text/plain": [
       "<Figure size 600x400 with 1 Axes>"
      ]
     },
     "metadata": {
      "needs_background": "light"
     },
     "output_type": "display_data"
    }
   ],
   "source": [
    "plt.figure(dpi=100)\n",
    "plt.bar(x2,y2)\n",
    "plt.xlabel(\"models\")\n",
    "plt.ylabel(\"test scores\")\n",
    "plt.show()"
   ]
  },
  {
   "cell_type": "markdown",
   "id": "ab871892",
   "metadata": {},
   "source": [
    "From the above bar plot we can observe that the best model for the given dataset is Decision tree model with the test score of 0.9999964408872123\n",
    "\n",
    "\n",
    "Knn model's test score is in negative so it is not a prefered model for the given dataset and same goes with the linear model"
   ]
  }
 ],
 "metadata": {
  "kernelspec": {
   "display_name": "Python 3 (ipykernel)",
   "language": "python",
   "name": "python3"
  },
  "language_info": {
   "codemirror_mode": {
    "name": "ipython",
    "version": 3
   },
   "file_extension": ".py",
   "mimetype": "text/x-python",
   "name": "python",
   "nbconvert_exporter": "python",
   "pygments_lexer": "ipython3",
   "version": "3.9.7"
  }
 },
 "nbformat": 4,
 "nbformat_minor": 5
}
