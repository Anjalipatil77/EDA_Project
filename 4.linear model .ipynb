{
 "cells": [
  {
   "cell_type": "code",
   "execution_count": 1,
   "id": "be7d2305",
   "metadata": {},
   "outputs": [],
   "source": [
    "#importing the required libraries\n",
    "import pandas as pd\n",
    "import numpy as np\n",
    "import matplotlib.pyplot as plt\n",
    "from math import sqrt"
   ]
  },
  {
   "cell_type": "code",
   "execution_count": 2,
   "id": "eac199ed",
   "metadata": {},
   "outputs": [
    {
     "data": {
      "text/html": [
       "<div>\n",
       "<style scoped>\n",
       "    .dataframe tbody tr th:only-of-type {\n",
       "        vertical-align: middle;\n",
       "    }\n",
       "\n",
       "    .dataframe tbody tr th {\n",
       "        vertical-align: top;\n",
       "    }\n",
       "\n",
       "    .dataframe thead th {\n",
       "        text-align: right;\n",
       "    }\n",
       "</style>\n",
       "<table border=\"1\" class=\"dataframe\">\n",
       "  <thead>\n",
       "    <tr style=\"text-align: right;\">\n",
       "      <th></th>\n",
       "      <th>id</th>\n",
       "      <th>vendor_id</th>\n",
       "      <th>pickup_datetime</th>\n",
       "      <th>dropoff_datetime</th>\n",
       "      <th>passenger_count</th>\n",
       "      <th>pickup_longitude</th>\n",
       "      <th>pickup_latitude</th>\n",
       "      <th>dropoff_longitude</th>\n",
       "      <th>dropoff_latitude</th>\n",
       "      <th>store_and_fwd_flag</th>\n",
       "      <th>trip_duration</th>\n",
       "    </tr>\n",
       "  </thead>\n",
       "  <tbody>\n",
       "    <tr>\n",
       "      <th>0</th>\n",
       "      <td>id1080784</td>\n",
       "      <td>2</td>\n",
       "      <td>2016-02-29 16:40:21</td>\n",
       "      <td>2016-02-29 16:47:01</td>\n",
       "      <td>1</td>\n",
       "      <td>-73.953918</td>\n",
       "      <td>40.778873</td>\n",
       "      <td>-73.963875</td>\n",
       "      <td>40.771164</td>\n",
       "      <td>N</td>\n",
       "      <td>400</td>\n",
       "    </tr>\n",
       "    <tr>\n",
       "      <th>1</th>\n",
       "      <td>id0889885</td>\n",
       "      <td>1</td>\n",
       "      <td>2016-03-11 23:35:37</td>\n",
       "      <td>2016-03-11 23:53:57</td>\n",
       "      <td>2</td>\n",
       "      <td>-73.988312</td>\n",
       "      <td>40.731743</td>\n",
       "      <td>-73.994751</td>\n",
       "      <td>40.694931</td>\n",
       "      <td>N</td>\n",
       "      <td>1100</td>\n",
       "    </tr>\n",
       "    <tr>\n",
       "      <th>2</th>\n",
       "      <td>id0857912</td>\n",
       "      <td>2</td>\n",
       "      <td>2016-02-21 17:59:33</td>\n",
       "      <td>2016-02-21 18:26:48</td>\n",
       "      <td>2</td>\n",
       "      <td>-73.997314</td>\n",
       "      <td>40.721458</td>\n",
       "      <td>-73.948029</td>\n",
       "      <td>40.774918</td>\n",
       "      <td>N</td>\n",
       "      <td>1635</td>\n",
       "    </tr>\n",
       "    <tr>\n",
       "      <th>3</th>\n",
       "      <td>id3744273</td>\n",
       "      <td>2</td>\n",
       "      <td>2016-01-05 09:44:31</td>\n",
       "      <td>2016-01-05 10:03:32</td>\n",
       "      <td>6</td>\n",
       "      <td>-73.961670</td>\n",
       "      <td>40.759720</td>\n",
       "      <td>-73.956779</td>\n",
       "      <td>40.780628</td>\n",
       "      <td>N</td>\n",
       "      <td>1141</td>\n",
       "    </tr>\n",
       "    <tr>\n",
       "      <th>4</th>\n",
       "      <td>id0232939</td>\n",
       "      <td>1</td>\n",
       "      <td>2016-02-17 06:42:23</td>\n",
       "      <td>2016-02-17 06:56:31</td>\n",
       "      <td>1</td>\n",
       "      <td>-74.017120</td>\n",
       "      <td>40.708469</td>\n",
       "      <td>-73.988182</td>\n",
       "      <td>40.740631</td>\n",
       "      <td>N</td>\n",
       "      <td>848</td>\n",
       "    </tr>\n",
       "    <tr>\n",
       "      <th>5</th>\n",
       "      <td>id1918069</td>\n",
       "      <td>2</td>\n",
       "      <td>2016-02-14 18:31:42</td>\n",
       "      <td>2016-02-14 18:55:57</td>\n",
       "      <td>2</td>\n",
       "      <td>-73.993614</td>\n",
       "      <td>40.751884</td>\n",
       "      <td>-73.995422</td>\n",
       "      <td>40.723862</td>\n",
       "      <td>N</td>\n",
       "      <td>1455</td>\n",
       "    </tr>\n",
       "    <tr>\n",
       "      <th>6</th>\n",
       "      <td>id2429028</td>\n",
       "      <td>1</td>\n",
       "      <td>2016-04-20 20:30:14</td>\n",
       "      <td>2016-04-20 20:36:51</td>\n",
       "      <td>1</td>\n",
       "      <td>-73.965080</td>\n",
       "      <td>40.758915</td>\n",
       "      <td>-73.976807</td>\n",
       "      <td>40.764107</td>\n",
       "      <td>N</td>\n",
       "      <td>397</td>\n",
       "    </tr>\n",
       "    <tr>\n",
       "      <th>7</th>\n",
       "      <td>id1663798</td>\n",
       "      <td>2</td>\n",
       "      <td>2016-06-19 16:48:14</td>\n",
       "      <td>2016-06-19 17:06:35</td>\n",
       "      <td>1</td>\n",
       "      <td>-73.963890</td>\n",
       "      <td>40.765434</td>\n",
       "      <td>-73.872429</td>\n",
       "      <td>40.774200</td>\n",
       "      <td>N</td>\n",
       "      <td>1101</td>\n",
       "    </tr>\n",
       "    <tr>\n",
       "      <th>8</th>\n",
       "      <td>id2436943</td>\n",
       "      <td>2</td>\n",
       "      <td>2016-03-28 19:17:03</td>\n",
       "      <td>2016-03-28 19:48:29</td>\n",
       "      <td>2</td>\n",
       "      <td>-73.872887</td>\n",
       "      <td>40.774281</td>\n",
       "      <td>-73.979019</td>\n",
       "      <td>40.761879</td>\n",
       "      <td>N</td>\n",
       "      <td>1886</td>\n",
       "    </tr>\n",
       "    <tr>\n",
       "      <th>9</th>\n",
       "      <td>id2933909</td>\n",
       "      <td>1</td>\n",
       "      <td>2016-04-10 22:01:41</td>\n",
       "      <td>2016-04-10 22:25:30</td>\n",
       "      <td>1</td>\n",
       "      <td>-73.987823</td>\n",
       "      <td>40.740982</td>\n",
       "      <td>-73.999153</td>\n",
       "      <td>40.686451</td>\n",
       "      <td>N</td>\n",
       "      <td>1429</td>\n",
       "    </tr>\n",
       "  </tbody>\n",
       "</table>\n",
       "</div>"
      ],
      "text/plain": [
       "          id  vendor_id      pickup_datetime     dropoff_datetime  \\\n",
       "0  id1080784          2  2016-02-29 16:40:21  2016-02-29 16:47:01   \n",
       "1  id0889885          1  2016-03-11 23:35:37  2016-03-11 23:53:57   \n",
       "2  id0857912          2  2016-02-21 17:59:33  2016-02-21 18:26:48   \n",
       "3  id3744273          2  2016-01-05 09:44:31  2016-01-05 10:03:32   \n",
       "4  id0232939          1  2016-02-17 06:42:23  2016-02-17 06:56:31   \n",
       "5  id1918069          2  2016-02-14 18:31:42  2016-02-14 18:55:57   \n",
       "6  id2429028          1  2016-04-20 20:30:14  2016-04-20 20:36:51   \n",
       "7  id1663798          2  2016-06-19 16:48:14  2016-06-19 17:06:35   \n",
       "8  id2436943          2  2016-03-28 19:17:03  2016-03-28 19:48:29   \n",
       "9  id2933909          1  2016-04-10 22:01:41  2016-04-10 22:25:30   \n",
       "\n",
       "   passenger_count  pickup_longitude  pickup_latitude  dropoff_longitude  \\\n",
       "0                1        -73.953918        40.778873         -73.963875   \n",
       "1                2        -73.988312        40.731743         -73.994751   \n",
       "2                2        -73.997314        40.721458         -73.948029   \n",
       "3                6        -73.961670        40.759720         -73.956779   \n",
       "4                1        -74.017120        40.708469         -73.988182   \n",
       "5                2        -73.993614        40.751884         -73.995422   \n",
       "6                1        -73.965080        40.758915         -73.976807   \n",
       "7                1        -73.963890        40.765434         -73.872429   \n",
       "8                2        -73.872887        40.774281         -73.979019   \n",
       "9                1        -73.987823        40.740982         -73.999153   \n",
       "\n",
       "   dropoff_latitude store_and_fwd_flag  trip_duration  \n",
       "0         40.771164                  N            400  \n",
       "1         40.694931                  N           1100  \n",
       "2         40.774918                  N           1635  \n",
       "3         40.780628                  N           1141  \n",
       "4         40.740631                  N            848  \n",
       "5         40.723862                  N           1455  \n",
       "6         40.764107                  N            397  \n",
       "7         40.774200                  N           1101  \n",
       "8         40.761879                  N           1886  \n",
       "9         40.686451                  N           1429  "
      ]
     },
     "execution_count": 2,
     "metadata": {},
     "output_type": "execute_result"
    }
   ],
   "source": [
    "#Reading the nyc taxi trip duration file\n",
    "df = pd.read_csv(\"nyc_taxi_trip_duration.csv\")\n",
    "df.head(10)"
   ]
  },
  {
   "cell_type": "code",
   "execution_count": 3,
   "id": "7244bcef",
   "metadata": {},
   "outputs": [],
   "source": [
    "#seperate features and target\n",
    "features = df.drop([\"id\",\"vendor_id\",\"trip_duration\",\"pickup_datetime\",\"dropoff_datetime\"],axis = 1)\n",
    "target = df[\"trip_duration\"]"
   ]
  },
  {
   "cell_type": "code",
   "execution_count": 4,
   "id": "afe22564",
   "metadata": {},
   "outputs": [
    {
     "data": {
      "text/html": [
       "<div>\n",
       "<style scoped>\n",
       "    .dataframe tbody tr th:only-of-type {\n",
       "        vertical-align: middle;\n",
       "    }\n",
       "\n",
       "    .dataframe tbody tr th {\n",
       "        vertical-align: top;\n",
       "    }\n",
       "\n",
       "    .dataframe thead th {\n",
       "        text-align: right;\n",
       "    }\n",
       "</style>\n",
       "<table border=\"1\" class=\"dataframe\">\n",
       "  <thead>\n",
       "    <tr style=\"text-align: right;\">\n",
       "      <th></th>\n",
       "      <th>passenger_count</th>\n",
       "      <th>pickup_longitude</th>\n",
       "      <th>pickup_latitude</th>\n",
       "      <th>dropoff_longitude</th>\n",
       "      <th>dropoff_latitude</th>\n",
       "      <th>store_and_fwd_flag_N</th>\n",
       "      <th>store_and_fwd_flag_Y</th>\n",
       "    </tr>\n",
       "  </thead>\n",
       "  <tbody>\n",
       "    <tr>\n",
       "      <th>0</th>\n",
       "      <td>1</td>\n",
       "      <td>-73.953918</td>\n",
       "      <td>40.778873</td>\n",
       "      <td>-73.963875</td>\n",
       "      <td>40.771164</td>\n",
       "      <td>1</td>\n",
       "      <td>0</td>\n",
       "    </tr>\n",
       "    <tr>\n",
       "      <th>1</th>\n",
       "      <td>2</td>\n",
       "      <td>-73.988312</td>\n",
       "      <td>40.731743</td>\n",
       "      <td>-73.994751</td>\n",
       "      <td>40.694931</td>\n",
       "      <td>1</td>\n",
       "      <td>0</td>\n",
       "    </tr>\n",
       "    <tr>\n",
       "      <th>2</th>\n",
       "      <td>2</td>\n",
       "      <td>-73.997314</td>\n",
       "      <td>40.721458</td>\n",
       "      <td>-73.948029</td>\n",
       "      <td>40.774918</td>\n",
       "      <td>1</td>\n",
       "      <td>0</td>\n",
       "    </tr>\n",
       "    <tr>\n",
       "      <th>3</th>\n",
       "      <td>6</td>\n",
       "      <td>-73.961670</td>\n",
       "      <td>40.759720</td>\n",
       "      <td>-73.956779</td>\n",
       "      <td>40.780628</td>\n",
       "      <td>1</td>\n",
       "      <td>0</td>\n",
       "    </tr>\n",
       "    <tr>\n",
       "      <th>4</th>\n",
       "      <td>1</td>\n",
       "      <td>-74.017120</td>\n",
       "      <td>40.708469</td>\n",
       "      <td>-73.988182</td>\n",
       "      <td>40.740631</td>\n",
       "      <td>1</td>\n",
       "      <td>0</td>\n",
       "    </tr>\n",
       "  </tbody>\n",
       "</table>\n",
       "</div>"
      ],
      "text/plain": [
       "   passenger_count  pickup_longitude  pickup_latitude  dropoff_longitude  \\\n",
       "0                1        -73.953918        40.778873         -73.963875   \n",
       "1                2        -73.988312        40.731743         -73.994751   \n",
       "2                2        -73.997314        40.721458         -73.948029   \n",
       "3                6        -73.961670        40.759720         -73.956779   \n",
       "4                1        -74.017120        40.708469         -73.988182   \n",
       "\n",
       "   dropoff_latitude  store_and_fwd_flag_N  store_and_fwd_flag_Y  \n",
       "0         40.771164                     1                     0  \n",
       "1         40.694931                     1                     0  \n",
       "2         40.774918                     1                     0  \n",
       "3         40.780628                     1                     0  \n",
       "4         40.740631                     1                     0  "
      ]
     },
     "execution_count": 4,
     "metadata": {},
     "output_type": "execute_result"
    }
   ],
   "source": [
    "df1= pd.get_dummies(df.drop([\"id\",\"vendor_id\",\"trip_duration\",\"pickup_datetime\",\"dropoff_datetime\"],axis = 1))\n",
    "df1.head()"
   ]
  },
  {
   "cell_type": "code",
   "execution_count": 5,
   "id": "4ae937fb",
   "metadata": {},
   "outputs": [
    {
     "data": {
      "text/plain": [
       "((729322, 7), (729322,))"
      ]
     },
     "execution_count": 5,
     "metadata": {},
     "output_type": "execute_result"
    }
   ],
   "source": [
    "#seperate features and target\n",
    "x = df1\n",
    "y = df[\"trip_duration\"]\n",
    "x.shape,y.shape"
   ]
  },
  {
   "cell_type": "code",
   "execution_count": 6,
   "id": "24e93850",
   "metadata": {},
   "outputs": [],
   "source": [
    "from sklearn.model_selection import train_test_split\n",
    "train_x,test_x,train_y,test_y = train_test_split(x,y,random_state=56)"
   ]
  },
  {
   "cell_type": "markdown",
   "id": "c6828b55",
   "metadata": {},
   "source": [
    "# 4.Linear Regression model"
   ]
  },
  {
   "cell_type": "code",
   "execution_count": 7,
   "id": "c08e1811",
   "metadata": {},
   "outputs": [],
   "source": [
    "from sklearn.linear_model import LinearRegression as LR\n",
    "from sklearn.metrics import mean_squared_error as mse"
   ]
  },
  {
   "cell_type": "code",
   "execution_count": 8,
   "id": "2dee394b",
   "metadata": {},
   "outputs": [
    {
     "data": {
      "text/plain": [
       "LinearRegression()"
      ]
     },
     "execution_count": 8,
     "metadata": {},
     "output_type": "execute_result"
    }
   ],
   "source": [
    "#creating an instance of LR\n",
    "lr = LR()\n",
    "#fitting the model\n",
    "lr.fit(train_x,train_y)"
   ]
  },
  {
   "cell_type": "code",
   "execution_count": 23,
   "id": "ea7b1585",
   "metadata": {},
   "outputs": [
    {
     "name": "stdout",
     "output_type": "stream",
     "text": [
      "training rmse  4084.314901285898\n"
     ]
    }
   ],
   "source": [
    "#predicting the train values and finding the RMSE\n",
    "train_predict = lr.predict(train_x)\n",
    "k = sqrt(mse(train_predict,train_y))\n",
    "print(\"training rmse \",k)"
   ]
  },
  {
   "cell_type": "code",
   "execution_count": 22,
   "id": "55e18e04",
   "metadata": {},
   "outputs": [
    {
     "name": "stdout",
     "output_type": "stream",
     "text": [
      "testing rmse  3082.700937344297\n"
     ]
    }
   ],
   "source": [
    "#predicting the test values and finding the RMSE\n",
    "test_predict = lr.predict(test_x)\n",
    "k = sqrt(mse(test_predict,test_y))\n",
    "print(\"testing rmse \",k)"
   ]
  },
  {
   "cell_type": "code",
   "execution_count": 11,
   "id": "365ce0b0",
   "metadata": {},
   "outputs": [
    {
     "data": {
      "text/plain": [
       "array([   39.46800108,  2601.42057522, -3401.4591546 ,  -921.73043757,\n",
       "       -1671.91286452,   -59.48931509,    59.48931509])"
      ]
     },
     "execution_count": 11,
     "metadata": {},
     "output_type": "execute_result"
    }
   ],
   "source": [
    "#computing the coefficients of above model\n",
    "lr.coef_"
   ]
  },
  {
   "cell_type": "markdown",
   "id": "8416d6f8",
   "metadata": {},
   "source": [
    "# plotting the coefficients"
   ]
  },
  {
   "cell_type": "code",
   "execution_count": 12,
   "id": "6d2eb1f3",
   "metadata": {
    "scrolled": true
   },
   "outputs": [
    {
     "data": {
      "text/plain": [
       "Text(0.5, 1.0, 'coefficient plot')"
      ]
     },
     "execution_count": 12,
     "metadata": {},
     "output_type": "execute_result"
    },
    {
     "data": {
      "image/png": "[encoded data removed]",
      "text/plain": [
       "<Figure size 960x720 with 1 Axes>"
      ]
     },
     "metadata": {},
     "output_type": "display_data"
    }
   ],
   "source": [
    "plt.figure(figsize=(8,6),dpi=120,facecolor=\"w\",edgecolor=\"b\")\n",
    "x = range(len(train_x.columns))\n",
    "y = lr.coef_\n",
    "plt.bar(x,y)\n",
    "plt.xlabel(\"variables\")\n",
    "plt.ylabel(\"coefficents\")\n",
    "plt.title(\"coefficient plot\")"
   ]
  },
  {
   "cell_type": "markdown",
   "id": "372639be",
   "metadata": {},
   "source": [
    "Here we can see that the model depends upon some Independent variables too much, But these coefficients are not suitable for interpretation because these are not scaled."
   ]
  },
  {
   "cell_type": "code",
   "execution_count": 13,
   "id": "1c13c71b",
   "metadata": {},
   "outputs": [
    {
     "data": {
      "text/html": [
       "<div>\n",
       "<style scoped>\n",
       "    .dataframe tbody tr th:only-of-type {\n",
       "        vertical-align: middle;\n",
       "    }\n",
       "\n",
       "    .dataframe tbody tr th {\n",
       "        vertical-align: top;\n",
       "    }\n",
       "\n",
       "    .dataframe thead th {\n",
       "        text-align: right;\n",
       "    }\n",
       "</style>\n",
       "<table border=\"1\" class=\"dataframe\">\n",
       "  <thead>\n",
       "    <tr style=\"text-align: right;\">\n",
       "      <th></th>\n",
       "      <th>fitted_values</th>\n",
       "      <th>predicted_values</th>\n",
       "      <th>residuals</th>\n",
       "    </tr>\n",
       "  </thead>\n",
       "  <tbody>\n",
       "    <tr>\n",
       "      <th>14908</th>\n",
       "      <td>2406</td>\n",
       "      <td>759.376620</td>\n",
       "      <td>1646.623380</td>\n",
       "    </tr>\n",
       "    <tr>\n",
       "      <th>87154</th>\n",
       "      <td>1457</td>\n",
       "      <td>822.601623</td>\n",
       "      <td>634.398377</td>\n",
       "    </tr>\n",
       "    <tr>\n",
       "      <th>666581</th>\n",
       "      <td>163</td>\n",
       "      <td>876.430490</td>\n",
       "      <td>-713.430490</td>\n",
       "    </tr>\n",
       "    <tr>\n",
       "      <th>543467</th>\n",
       "      <td>2160</td>\n",
       "      <td>1257.688397</td>\n",
       "      <td>902.311603</td>\n",
       "    </tr>\n",
       "    <tr>\n",
       "      <th>105193</th>\n",
       "      <td>402</td>\n",
       "      <td>842.841662</td>\n",
       "      <td>-440.841662</td>\n",
       "    </tr>\n",
       "  </tbody>\n",
       "</table>\n",
       "</div>"
      ],
      "text/plain": [
       "        fitted_values  predicted_values    residuals\n",
       "14908            2406        759.376620  1646.623380\n",
       "87154            1457        822.601623   634.398377\n",
       "666581            163        876.430490  -713.430490\n",
       "543467           2160       1257.688397   902.311603\n",
       "105193            402        842.841662  -440.841662"
      ]
     },
     "execution_count": 13,
     "metadata": {},
     "output_type": "execute_result"
    }
   ],
   "source": [
    "#calculating the residuals \n",
    "residuals = pd.DataFrame({\n",
    "    \"fitted_values\":test_y,\n",
    "    \"predicted_values\":test_predict\n",
    "})\n",
    "residuals[\"residuals\"]=residuals[\"fitted_values\"]-residuals[\"predicted_values\"]\n",
    "residuals.head()"
   ]
  },
  {
   "cell_type": "code",
   "execution_count": 29,
   "id": "cb806000",
   "metadata": {
    "scrolled": true
   },
   "outputs": [
    {
     "data": {
      "image/png": "[encoded data removed]",
      "text/plain": [
       "<Figure size 1500x900 with 1 Axes>"
      ]
     },
     "metadata": {},
     "output_type": "display_data"
    }
   ],
   "source": [
    "plt.figure(figsize=(10,6),dpi=150,facecolor=\"w\",edgecolor=\"b\")\n",
    "plt.hist(residuals.residuals,bins=100)\n",
    "plt.xlabel(\"error\")\n",
    "plt.ylabel(\"frequency\")\n",
    "plt.title(\"distribution of error terms\")\n",
    "plt.show()"
   ]
  },
  {
   "cell_type": "code",
   "execution_count": 28,
   "id": "dae886ee",
   "metadata": {},
   "outputs": [
    {
     "name": "stderr",
     "output_type": "stream",
     "text": [
      "C:\\Users\\kwali\\anaconda3\\lib\\site-packages\\statsmodels\\graphics\\gofplots.py:993: UserWarning: marker is redundantly defined by the 'marker' keyword argument and the fmt string \"bo\" (-> marker='o'). The keyword argument will take precedence.\n",
      "  ax.plot(x, y, fmt, **plot_style)\n"
     ]
    },
    {
     "data": {
      "image/png": "[encoded data removed]",
      "text/plain": [
       "<Figure size 600x600 with 1 Axes>"
      ]
     },
     "metadata": {
      "needs_background": "light"
     },
     "output_type": "display_data"
    }
   ],
   "source": [
    "# importing the QQ-plot from the from the statsmodels\n",
    "from statsmodels.graphics.gofplots import qqplot\n",
    "\n",
    "## Plotting the QQ plot\n",
    "fig, ax = plt.subplots(figsize=(5,5) , dpi = 120)\n",
    "qqplot(residuals.residuals, line = 's' , ax = ax)\n",
    "plt.xlabel('Ideal Scaled Quantiles')\n",
    "plt.ylabel('Residual Quantiles')\n",
    "plt.legend([\"Residual Quantiles\",\"Ideal Scaled Quantiles\"])\n",
    "plt.title('Distribution of Residual Errors')\n",
    "plt.show()"
   ]
  },
  {
   "cell_type": "code",
   "execution_count": 15,
   "id": "cc2b9b95",
   "metadata": {},
   "outputs": [
    {
     "data": {
      "text/plain": [
       "0.2811106281771725"
      ]
     },
     "execution_count": 15,
     "metadata": {},
     "output_type": "execute_result"
    }
   ],
   "source": [
    "#computing the train score \n",
    "linear_train_score = lr.score(train_x,train_y)\n",
    "linear_train_score*100"
   ]
  },
  {
   "cell_type": "code",
   "execution_count": 16,
   "id": "e153fd33",
   "metadata": {},
   "outputs": [
    {
     "data": {
      "text/plain": [
       "0.5463483862958252"
      ]
     },
     "execution_count": 16,
     "metadata": {},
     "output_type": "execute_result"
    }
   ],
   "source": [
    "#computing the test score\n",
    "linear_test_score = lr.score(test_x,test_y)\n",
    "linear_test_score*100"
   ]
  },
  {
   "cell_type": "code",
   "execution_count": 20,
   "id": "f2af41ec",
   "metadata": {},
   "outputs": [
    {
     "name": "stdout",
     "output_type": "stream",
     "text": [
      "Stored 'linear_test_score' (float64)\n"
     ]
    }
   ],
   "source": [
    "#storing the value of test score which can be further used in other files for plotting the bar graph\n",
    "%store linear_test_score"
   ]
  },
  {
   "cell_type": "code",
   "execution_count": 21,
   "id": "e378d4e3",
   "metadata": {},
   "outputs": [
    {
     "name": "stdout",
     "output_type": "stream",
     "text": [
      "Stored 'linear_train_score' (float64)\n"
     ]
    }
   ],
   "source": [
    "#storing the value of train score which can be further used in other files for plotting the bar graph\n",
    "%store linear_train_score"
   ]
  },
  {
   "cell_type": "markdown",
   "id": "95fde0ff",
   "metadata": {},
   "source": [
    "# conclusions\n",
    "\n",
    "1. The training and test RMSE has a huge difference as the training rmse is 4084.31 and testing rmse is 3082.700\n",
    "2. On computing the coefficients we observed that there are some negative values as well\n",
    "3. On plotting the coefficients we can see that the model depends upon some Independent variables too much, But these coefficients are not suitable for interpretation because these are not scaled.\n",
    "4. On plotting the qqplot we see that the residual quantile line doesn't fit over all ideal scaled quantiles\n",
    "5. The train score of linear model is very low as compared to other models. It just 0.28%\n",
    "6. The test score of linear model is also very low as compared to other models. It is just 0.54%"
   ]
  }
 ],
 "metadata": {
  "kernelspec": {
   "display_name": "Python 3 (ipykernel)",
   "language": "python",
   "name": "python3"
  },
  "language_info": {
   "codemirror_mode": {
    "name": "ipython",
    "version": 3
   },
   "file_extension": ".py",
   "mimetype": "text/x-python",
   "name": "python",
   "nbconvert_exporter": "python",
   "pygments_lexer": "ipython3",
   "version": "3.9.7"
  }
 },
 "nbformat": 4,
 "nbformat_minor": 5
}
